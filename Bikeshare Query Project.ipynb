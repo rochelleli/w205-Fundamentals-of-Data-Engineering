{
 "cells": [
  {
   "cell_type": "markdown",
   "metadata": {},
   "source": [
    "# Project 1: San Francisco Bikeshare Query Project"
   ]
  },
  {
   "cell_type": "markdown",
   "metadata": {},
   "source": [
    "- In the Query Project, you will get practice with SQL while learning about\n",
    "  Google Cloud Platform (GCP) and BiqQuery. You'll answer business-driven\n",
    "  questions using public datasets housed in GCP. To give you experience with\n",
    "  different ways to use those datasets, you will use the web UI (BiqQuery) and\n",
    "  the command-line tools, and work with them in Jupyter Notebooks."
   ]
  },
  {
   "cell_type": "markdown",
   "metadata": {},
   "source": [
    "## Part 1 - Querying Data with BigQuery"
   ]
  },
  {
   "cell_type": "markdown",
   "metadata": {},
   "source": [
    "- The static tables we will be using in this project are in the dataset **san_francisco** :\n",
    "\n",
    "  * bikeshare_stations\n",
    "\n",
    "  * bikeshare_status\n",
    "\n",
    "  * bikeshare_trips"
   ]
  },
  {
   "cell_type": "markdown",
   "metadata": {},
   "source": [
    "### Some initial queries\n",
    "\n",
    "Paste your SQL query and answer the question in a sentence.  Be sure you properly format your queries and results using markdown. \n",
    "\n",
    "- What's the size of this dataset? (i.e., how many trips)\n",
    "    * Answer: `983648`\n",
    "    * SQL Query:  \n",
    "    ```\n",
    "    SELECT count(*)\n",
    "    FROM `bigquery-public-data.san_francisco.bikeshare_trips`\n",
    "    ```\n",
    "\n",
    "\n",
    "- What is the earliest start date and time and latest end date and time for a trip?\n",
    "    * Answer:  \n",
    "        Earliest start: `2013-08-29 09:08:00` and Latest end: `2016-08-31 23:48:00`\n",
    "    * SQL Query:  \n",
    "        Earliest start:  \n",
    "        ```\n",
    "        SELECT min(start_date) \n",
    "        FROM `bigquery-public-data.san_francisco.bikeshare_trips`\n",
    "        ```\n",
    "        Latest start:\n",
    "        ```\n",
    "        SELECT max(end_date) \n",
    "        FROM `bigquery-public-data.san_francisco.bikeshare_trips`  \n",
    "        ```\n",
    "        \n",
    "        \n",
    "- How many bikes are there?\n",
    "    * Answer: `700`\n",
    "    * SQL Query:  \n",
    "    ```\n",
    "    SELECT count(distinct bike_number)\n",
    "    FROM `bigquery-public-data.san_francisco.bikeshare_trips`\n",
    "    ```"
   ]
  },
  {
   "cell_type": "markdown",
   "metadata": {},
   "source": [
    "### Questions of your own\n",
    "- Make up 3 questions and answer them using the Bay Area Bike Share Trips Data.  These questions MUST be different than any of the questions and queries you ran above.\n",
    "\n",
    "- Question 1: How many subscriber trips are there?\n",
    "  * Answer: `846839`\n",
    "  * SQL query:\n",
    "  ```\n",
    "  SELECT count(*)  \n",
    "  FROM `bigquery-public-data.san_francisco.bikeshare_trips`  \n",
    "  WHERE subscriber_type = 'Subscriber'\n",
    "  ```\n",
    "  \n",
    "\n",
    "- Question 2: What is the most common start station name?\n",
    "  * Answer: `San Francisco Caltrain (Townsend at 4th)` with `72683` trips\n",
    "  * SQL query:\n",
    "  ```\n",
    "  SELECT start_station_name, count(*) as Frequency  \n",
    "  FROM `bigquery-public-data.san_francisco.bikeshare_trips`  \n",
    "  GROUP BY start_station_name  \n",
    "  ORDER BY Frequency DESC\n",
    "  ```\n",
    "  \n",
    "\n",
    "- Question 3: What is the most common end station name?\n",
    "  * Answer: `San Francisco Caltrain (Townsend at 4th)` with `92014` trips\n",
    "  * SQL query:  \n",
    "  ```\n",
    "  SELECT end_station_name, count(*) as Frequency  \n",
    "  FROM `bigquery-public-data.san_francisco.bikeshare_trips`  \n",
    "  GROUP BY end_station_name  \n",
    "  ORDER BY Frequency DESC\n",
    "  ```"
   ]
  },
  {
   "cell_type": "markdown",
   "metadata": {},
   "source": [
    "## Part 2 - Querying data from the BigQuery CLI \n",
    "\n",
    "- Use BQ from the Linux command line:\n",
    "\n",
    "  * General query structure\n",
    "\n",
    "    ```\n",
    "    bq query --use_legacy_sql=false '\n",
    "        SELECT count(*)\n",
    "        FROM\n",
    "           `bigquery-public-data.san_francisco.bikeshare_trips`'\n",
    "    ```"
   ]
  },
  {
   "cell_type": "markdown",
   "metadata": {},
   "source": [
    "### Queries\n",
    "\n",
    "1. Rerun the first 3 queries from Part 1 using bq command line tool (Paste your bq\n",
    "   queries and results here, using properly formatted markdown):\n",
    "\n",
    "  * What's the size of this dataset? (i.e., how many trips)\n",
    "    * Answer: `983648`\n",
    "    * SQL Query:  \n",
    "    ```\n",
    "    bq query --use_legacy_sql=false '\n",
    "        SELECT count(*) \n",
    "        FROM `bigquery-public-data.san_francisco.bikeshare_trips`'\n",
    "    ```\n",
    "    \n",
    "\n",
    "  * What is the earliest start time and latest end time for a trip?\n",
    "    * Answer:  \n",
    "        Earliest start: `2013-08-29 09:08:00` and Latest end: `2016-08-31 23:48:00`\n",
    "    * SQL Query:  \n",
    "        Earliest start:  \n",
    "        ```\n",
    "        bq query --use_legacy_sql=false '\n",
    "        SELECT min(start_date) \n",
    "        FROM `bigquery-public-data.san_francisco.bikeshare_trips`'\n",
    "        ```\n",
    "        Latest start:\n",
    "        ```\n",
    "        bq query --use_legacy_sql=false '\n",
    "        SELECT max(end_date) \n",
    "        FROM `bigquery-public-data.san_francisco.bikeshare_trips`'\n",
    "        ```\n",
    "        \n",
    "        \n",
    "  * How many bikes are there?\n",
    "    * Answer: `700`\n",
    "    * SQL Query:  \n",
    "    ```\n",
    "    bq query --use_legacy_sql=false '\n",
    "    SELECT count(distinct bike_number) \n",
    "    FROM `bigquery-public-data.san_francisco.bikeshare_trips`'\n",
    "    ```\n",
    "\n",
    "\n",
    "2. New Query (Run using bq and paste your SQL query and answer the question in a sentence, using properly formatted markdown):\n",
    "\n",
    "  * How many trips are in the morning vs in the afternoon?  \n",
    "    I define the morning trips to be trips that start between `05:00:00` and `11:59:59`.  \n",
    "    I define the afternoon trips to be trips that start between `12:00:00` and `17:59:59`.  \n",
    "    * Answer:\n",
    "        Morning Trips: `404919` and Afternoon Trips: `391199`\n",
    "    * SQL Query:  \n",
    "        Morning Trips:\n",
    "        ```\n",
    "        bq query --use_legacy_sql=false '\n",
    "        SELECT count(*)\n",
    "        FROM `bigquery-public-data.san_francisco.bikeshare_trips`\n",
    "        WHERE CAST(start_date AS time) >= \"05:00:00\" AND CAST(start_date AS time) <= \"11:59:59\"'\n",
    "        ```\n",
    "        Afternoon Trips:\n",
    "        ```\n",
    "        bq query --use_legacy_sql=false '\n",
    "        SELECT count(*)\n",
    "        FROM `bigquery-public-data.san_francisco.bikeshare_trips`\n",
    "        WHERE CAST(start_date AS time) >= \"12:00:00\" AND CAST(start_date AS time) <= \"17:59:59\"'\n",
    "        ```"
   ]
  },
  {
   "cell_type": "markdown",
   "metadata": {},
   "source": [
    "### Project Questions\n",
    "Identify the main questions you'll need to answer to make recommendations (list\n",
    "below, add as many questions as you need).\n",
    "\n",
    "- Question 1: Which days of the week have the most trips?\n",
    "\n",
    "- Question 2: What hours of the day do riders start their trips most?\n",
    "\n",
    "- Question 3: What hours of the day do riders start their trips most on weekdays?\n",
    "\n",
    "- Question 4: What hours of the day do subscribers start their trips most on weekdays?\n",
    "\n",
    "- Question 5: Which days of the week do subscribers have the most trips?\n",
    "\n",
    "- Question 6: Which days of the week do non-subscribers have the most trips?\n",
    "\n",
    "- Question 7: What are the most common start station and end station pairs?\n",
    "\n",
    "- Question 8: What are the most common start station and end station pairs on the weekend?\n",
    "\n",
    "- Question 9: What are the most common start station and end station pairs on the weekdays for subscribers?\n",
    "\n",
    "- Question 10: What are the most common start station and end station pairs on the weekdays for non-subscribers?\n",
    "\n",
    "- Question 11: How many round trips are there?\n",
    "\n",
    "- Question 12: Which stations have the most round trips?\n"
   ]
  },
  {
   "cell_type": "markdown",
   "metadata": {},
   "source": [
    "### Answers\n",
    "\n",
    "Answer at least 4 of the questions you identified above You can use either\n",
    "BigQuery or the bq command line tool.  Paste your questions, queries and\n",
    "answers below.\n",
    "\n",
    "- Question 1: Which days of the week have the most trips?  \n",
    "  Day values in the range [1,7] with Sunday as the first day of the week.\n",
    "  * Answer: Tuesdays have the most trips followed by Wednesdays. Weekdays have about three times as many trips per day compared to the weekend.\n",
    "  * SQL query:\n",
    "  ```\n",
    "  SELECT EXTRACT(DAYOFWEEK FROM start_date) AS day, count(*) as Frequency\n",
    "  FROM `bigquery-public-data.san_francisco.bikeshare_trips`\n",
    "  GROUP BY day\n",
    "  ORDER BY day\n",
    "  ```\n",
    "  \n",
    "\n",
    "- Question 2: What hours of the day do riders start their trips most?\n",
    "  * Answer: At 8 in the morning and 6 at night\n",
    "  * SQL query:\n",
    "  ```\n",
    "  SELECT Extract(HOUR FROM start_date) AS hour, count(*) as Frequency\n",
    "  FROM `bigquery-public-data.san_francisco.bikeshare_trips`\n",
    "  GROUP BY hour\n",
    "  ORDER BY Frequency DESC\n",
    "  ```\n",
    "  \n",
    "  \n",
    "- Question 3: What hours of the day do riders start their trips most on weekdays?\n",
    "  * Answer: At 8 in the morning and 6 at night\n",
    "  * SQL query:\n",
    "  ```\n",
    "  SELECT Extract(HOUR FROM start_date) AS hour, count(*) as Frequency\n",
    "  FROM `bigquery-public-data.san_francisco.bikeshare_trips`\n",
    "  WHERE EXTRACT(DAYOFWEEK FROM start_date) BETWEEN 2 AND 6\n",
    "  GROUP BY hour\n",
    "  ORDER BY Frequency DESC\n",
    "  ```\n",
    "  \n",
    "- Question 4: What hours of the day do subscribers start their trips most on weekdays?\n",
    "  * Answer: At 8 in the morning and 6 at night\n",
    "  * SQL query:\n",
    "  ```\n",
    "  SELECT Extract(HOUR FROM start_date) AS hour, count(*) as Frequency\n",
    "  FROM `bigquery-public-data.san_francisco.bikeshare_trips`\n",
    "  WHERE subscriber_type='Subscriber' AND (EXTRACT(DAYOFWEEK FROM start_date) BETWEEN 2 AND 6)\n",
    "  GROUP BY hour\n",
    "  ORDER BY Frequency DESC\n",
    "  ```\n",
    "  \n",
    "  \n",
    "- Question 5: Which days of the week do subscribers have the most trips?\n",
    "  * Answer: Most trips on weekdays.\n",
    "  * SQL query:\n",
    "  ```\n",
    "  SELECT EXTRACT(DAYOFWEEK FROM start_date) AS day, count(*) as Frequency\n",
    "  FROM `bigquery-public-data.san_francisco.bikeshare_trips`\n",
    "  WHERE subscriber_type='Subscriber'\n",
    "  GROUP BY day\n",
    "  ORDER BY day\n",
    "  ```\n",
    "  \n",
    "  \n",
    "- Question 6: Which days of the week do non-subscribers have the most trips?\n",
    "  * Answer: Most trips on Saturday and Sunday\n",
    "  * SQL query:\n",
    "  ```\n",
    "  SELECT EXTRACT(DAYOFWEEK FROM start_date) AS day, count(*) as Frequency\n",
    "  FROM `bigquery-public-data.san_francisco.bikeshare_trips`\n",
    "  WHERE subscriber_type='Customer'\n",
    "  GROUP BY day\n",
    "  ORDER BY day\n",
    "  ```\n",
    "\n",
    "\n",
    "- Question 7: What are the most common start station and end station pairs?\n",
    "  * Answer: \n",
    "      * Harry Bridges Plaza (Ferry Building) to Embarcadero at Sansome\n",
    "      * San Francisco Caltrain 2 (330 Townsend) to Townsend at 7th\n",
    "      * 2nd at Townsend to Harry Bridges Plaza (Ferry Building)\n",
    "  * SQL query:\n",
    "  ```\n",
    "  SELECT start_station_name, end_station_name, count(*) as trip_freq \n",
    "  FROM `bigquery-public-data.san_francisco.bikeshare_trips` \n",
    "  GROUP BY start_station_name, end_station_name \n",
    "  ORDER BY trip_freq DESC LIMIT 5\n",
    "  ```\n",
    "  \n",
    "  \n",
    "- Question 8: What are the most common start station and end station pairs on the weekend?\n",
    "  * Answer:\n",
    "      * Harry Bridges Plaza (Ferry Building) to Embarcadero at Sansome\n",
    "      * Embarcadero at Sansome to Harry Bridges Plaza (Ferry Building)\n",
    "      * Embarcadero at Sansome to Embarcadero at Sansome\n",
    "  * SQL query:\n",
    "  ```\n",
    "  SELECT start_station_name, end_station_name, count(*) as trip_freq \n",
    "  FROM `bigquery-public-data.san_francisco.bikeshare_trips` \n",
    "  WHERE EXTRACT(DAYOFWEEK FROM start_date) = 1 OR EXTRACT(DAYOFWEEK FROM start_date) = 7\n",
    "  GROUP BY start_station_name, end_station_name \n",
    "  ORDER BY trip_freq DESC LIMIT 5\n",
    "  ```\n",
    "  \n",
    "- Question 9: What are the most common start station and end station pairs on the weekdays for subscribers?\n",
    "  * Answer:\n",
    "      * San Francisco Caltrain 2 (330 Townsend) to Townsend at 7th\n",
    "      * 2nd at Townsend to Harry Bridges Plaza (Ferry Building)\n",
    "      * Townsend at 7th to San Francisco Caltrain 2 (330 Townsend)\n",
    "  * SQL query:\n",
    "  ```\n",
    "  SELECT start_station_name, end_station_name, count(*) as trip_freq \n",
    "  FROM `bigquery-public-data.san_francisco.bikeshare_trips` \n",
    "  WHERE subscriber_type='Subscriber' AND (EXTRACT(DAYOFWEEK FROM start_date) BETWEEN 2 AND 6)\n",
    "  GROUP BY start_station_name, end_station_name \n",
    "  ORDER BY trip_freq DESC LIMIT 5\n",
    "  ```\n",
    "  \n",
    "  \n",
    "- Question 10: What are the most common start station and end station pairs on the weekdays for non-subscribers?\n",
    "  * Answer:\n",
    "      * Harry Bridges Plaza (Ferry Building) to Embarcadero at Sansome\n",
    "      * Embarcadero at Sansome to Embarcadero at Sansome\n",
    "      * Harry Bridges Plaza (Ferry Building) to Harry Bridges Plaza (Ferry Building)\n",
    "  * SQL query:\n",
    "  ```\n",
    "  SELECT start_station_name, end_station_name, count(*) as trip_freq \n",
    "  FROM `bigquery-public-data.san_francisco.bikeshare_trips` \n",
    "  WHERE subscriber_type='Customer' AND (EXTRACT(DAYOFWEEK FROM start_date) BETWEEN 2 AND 6)\n",
    "  GROUP BY start_station_name, end_station_name \n",
    "  ORDER BY trip_freq DESC LIMIT 5\n",
    "  ```\n",
    "  \n",
    "- Question 11: How many round trips are there?\n",
    "  * Answer: 32047\n",
    "  * SQL query:\n",
    "  ```\n",
    "  SELECT count(*) as trip_freq \n",
    "  FROM `bigquery-public-data.san_francisco.bikeshare_trips` \n",
    "  WHERE start_station_name = end_station_name\n",
    "  ```\n",
    "  \n",
    "  \n",
    "- Question 12: Which stations have the most round trips?\n",
    "  * Answer: Embarcadero at Sansome, Harry Bridges Plaza (Ferry Building), and University and Emerson\n",
    "  * SQL query:\n",
    "  ```\n",
    "  SELECT start_station_name, count(*) as trip_freq \n",
    "  FROM `bigquery-public-data.san_francisco.bikeshare_trips` \n",
    "  WHERE start_station_name = end_station_name\n",
    "  GROUP BY start_station_name\n",
    "  ORDER BY trip_freq DESC\n",
    "  ```"
   ]
  },
  {
   "cell_type": "markdown",
   "metadata": {},
   "source": [
    "## Part 3 - Employ notebooks to synthesize query project results"
   ]
  },
  {
   "cell_type": "code",
   "execution_count": 8,
   "metadata": {},
   "outputs": [],
   "source": [
    "import pandas as pd\n",
    "import matplotlib.pyplot as plt"
   ]
  },
  {
   "cell_type": "markdown",
   "metadata": {},
   "source": [
    "### Question 1: What are the 5 most popular trips that you would call \"commuter trips\"?\n",
    "\n",
    "To answer this question, we first to define which trips are considered commuter trips. Based on the exploratory queries in part 2, commuter trips are trips that satisfy the following conditions:\n",
    "- starts between `06:00:00` and `10:59:59` or between `16:00:00` and `19:59:59`\n",
    "- length of trip is greater than `120 seconds` and less than `50,400 seconds`\n",
    "- starts on a weekday"
   ]
  },
  {
   "cell_type": "markdown",
   "metadata": {},
   "source": [
    "What is the distribution of trip start times on weekdays?"
   ]
  },
  {
   "cell_type": "code",
   "execution_count": 11,
   "metadata": {},
   "outputs": [],
   "source": [
    "%%bigquery hourly_weekday_df\n",
    "\n",
    "SELECT Extract(HOUR FROM start_date) AS hour, count(*) as Frequency\n",
    "FROM `bigquery-public-data.san_francisco.bikeshare_trips`\n",
    "WHERE EXTRACT(DAYOFWEEK FROM start_date) BETWEEN 2 AND 6\n",
    "GROUP BY hour\n",
    "ORDER BY hour"
   ]
  },
  {
   "cell_type": "code",
   "execution_count": 12,
   "metadata": {},
   "outputs": [
    {
     "data": {
      "text/plain": [
       "<AxesSubplot:xlabel='hour'>"
      ]
     },
     "execution_count": 12,
     "metadata": {},
     "output_type": "execute_result"
    },
    {
     "data": {
      "image/png": "[encoded data removed]",
      "text/plain": [
       "<Figure size 432x288 with 1 Axes>"
      ]
     },
     "metadata": {
      "needs_background": "light"
     },
     "output_type": "display_data"
    }
   ],
   "source": [
    "hourly_weekday_df.plot.bar(x='hour', y='Frequency')"
   ]
  },
  {
   "cell_type": "markdown",
   "metadata": {},
   "source": [
    "Above is a histogram to visualize the trip start time distribution."
   ]
  },
  {
   "cell_type": "code",
   "execution_count": 14,
   "metadata": {},
   "outputs": [],
   "source": [
    "%%bigquery commuter_df\n",
    "\n",
    "SELECT start_station_name, end_station_name, count(*) as trip_freq \n",
    "FROM `bigquery-public-data.san_francisco.bikeshare_trips` \n",
    "WHERE ((CAST(start_date AS time) BETWEEN '06:00:00' AND '10:59:59') \n",
    "    OR (CAST(start_date AS time) BETWEEN '16:00:00' AND '19:59:59'))\n",
    "    AND (EXTRACT(DAYOFWEEK FROM start_date) BETWEEN 2 AND 6)\n",
    "    AND duration_sec BETWEEN 120 AND 50400\n",
    "GROUP BY start_station_name, end_station_name \n",
    "ORDER BY trip_freq DESC LIMIT 5"
   ]
  },
  {
   "cell_type": "code",
   "execution_count": 15,
   "metadata": {},
   "outputs": [
    {
     "data": {
      "text/html": [
       "<div>\n",
       "<style scoped>\n",
       "    .dataframe tbody tr th:only-of-type {\n",
       "        vertical-align: middle;\n",
       "    }\n",
       "\n",
       "    .dataframe tbody tr th {\n",
       "        vertical-align: top;\n",
       "    }\n",
       "\n",
       "    .dataframe thead th {\n",
       "        text-align: right;\n",
       "    }\n",
       "</style>\n",
       "<table border=\"1\" class=\"dataframe\">\n",
       "  <thead>\n",
       "    <tr style=\"text-align: right;\">\n",
       "      <th></th>\n",
       "      <th>start_station_name</th>\n",
       "      <th>end_station_name</th>\n",
       "      <th>trip_freq</th>\n",
       "    </tr>\n",
       "  </thead>\n",
       "  <tbody>\n",
       "    <tr>\n",
       "      <th>0</th>\n",
       "      <td>San Francisco Caltrain 2 (330 Townsend)</td>\n",
       "      <td>Townsend at 7th</td>\n",
       "      <td>6348</td>\n",
       "    </tr>\n",
       "    <tr>\n",
       "      <th>1</th>\n",
       "      <td>Harry Bridges Plaza (Ferry Building)</td>\n",
       "      <td>2nd at Townsend</td>\n",
       "      <td>5647</td>\n",
       "    </tr>\n",
       "    <tr>\n",
       "      <th>2</th>\n",
       "      <td>2nd at Townsend</td>\n",
       "      <td>Harry Bridges Plaza (Ferry Building)</td>\n",
       "      <td>5454</td>\n",
       "    </tr>\n",
       "    <tr>\n",
       "      <th>3</th>\n",
       "      <td>Embarcadero at Sansome</td>\n",
       "      <td>Steuart at Market</td>\n",
       "      <td>5217</td>\n",
       "    </tr>\n",
       "    <tr>\n",
       "      <th>4</th>\n",
       "      <td>San Francisco Caltrain (Townsend at 4th)</td>\n",
       "      <td>Harry Bridges Plaza (Ferry Building)</td>\n",
       "      <td>5191</td>\n",
       "    </tr>\n",
       "  </tbody>\n",
       "</table>\n",
       "</div>"
      ],
      "text/plain": [
       "                         start_station_name  \\\n",
       "0   San Francisco Caltrain 2 (330 Townsend)   \n",
       "1      Harry Bridges Plaza (Ferry Building)   \n",
       "2                           2nd at Townsend   \n",
       "3                    Embarcadero at Sansome   \n",
       "4  San Francisco Caltrain (Townsend at 4th)   \n",
       "\n",
       "                       end_station_name  trip_freq  \n",
       "0                       Townsend at 7th       6348  \n",
       "1                       2nd at Townsend       5647  \n",
       "2  Harry Bridges Plaza (Ferry Building)       5454  \n",
       "3                     Steuart at Market       5217  \n",
       "4  Harry Bridges Plaza (Ferry Building)       5191  "
      ]
     },
     "execution_count": 15,
     "metadata": {},
     "output_type": "execute_result"
    }
   ],
   "source": [
    "commuter_df"
   ]
  },
  {
   "cell_type": "markdown",
   "metadata": {},
   "source": [
    "The table above shows the 5 most popular commuter trips. The stations of these most frequent trips   makes sense because many commuters are expected to leave/enter the city via Caltrain, Bart, or Ferry."
   ]
  },
  {
   "cell_type": "markdown",
   "metadata": {},
   "source": [
    "### Question 2: What are your recommendations for offers?"
   ]
  },
  {
   "cell_type": "markdown",
   "metadata": {},
   "source": [
    "#### Recommendation 1: Target Other Commuters\n",
    "Targeting commuters who drive and trying to entice them to bike will be a hard task, so I suggest not to take that approach. Looking at the commuter trip table **above**, we can see that many commuters take the Caltrain, Bart, or Ferry. The table only represents commuters who have already used bike share to get between their workplaces and the Caltrain/Bart/Ferry stations. There are other commuters who take Caltrain/Bart/Ferry, but are walking, taking rideshare, or taking the bus to and from their workplaces. There are opportunies to entice these other commuters because walking takes longer, busses aren't always reliable and are crowded furing rush hour, and rideshare is more expensive and less eco-friendly. Offer a discount to commuters and market the benefits of switching to bike share."
   ]
  },
  {
   "cell_type": "markdown",
   "metadata": {},
   "source": [
    "#### Recommendation 2: Weekend Exploration for Commuters"
   ]
  },
  {
   "cell_type": "markdown",
   "metadata": {},
   "source": [
    "What percentage of commuters trips are taken by subscribers? This next query gives the number of commuter trips taken by subcribers."
   ]
  },
  {
   "cell_type": "code",
   "execution_count": 16,
   "metadata": {},
   "outputs": [
    {
     "data": {
      "text/html": [
       "<div>\n",
       "<style scoped>\n",
       "    .dataframe tbody tr th:only-of-type {\n",
       "        vertical-align: middle;\n",
       "    }\n",
       "\n",
       "    .dataframe tbody tr th {\n",
       "        vertical-align: top;\n",
       "    }\n",
       "\n",
       "    .dataframe thead th {\n",
       "        text-align: right;\n",
       "    }\n",
       "</style>\n",
       "<table border=\"1\" class=\"dataframe\">\n",
       "  <thead>\n",
       "    <tr style=\"text-align: right;\">\n",
       "      <th></th>\n",
       "      <th>trip_freq</th>\n",
       "    </tr>\n",
       "  </thead>\n",
       "  <tbody>\n",
       "    <tr>\n",
       "      <th>0</th>\n",
       "      <td>607955</td>\n",
       "    </tr>\n",
       "  </tbody>\n",
       "</table>\n",
       "</div>"
      ],
      "text/plain": [
       "   trip_freq\n",
       "0     607955"
      ]
     },
     "execution_count": 16,
     "metadata": {},
     "output_type": "execute_result"
    }
   ],
   "source": [
    "%%bigquery\n",
    "\n",
    "SELECT count(*) as trip_freq \n",
    "FROM `bigquery-public-data.san_francisco.bikeshare_trips` \n",
    "WHERE ((CAST(start_date AS time) BETWEEN '06:00:00' AND '10:59:59') \n",
    "    OR (CAST(start_date AS time) BETWEEN '16:00:00' AND '19:59:59'))\n",
    "    AND (EXTRACT(DAYOFWEEK FROM start_date) BETWEEN 2 AND 6)\n",
    "    AND duration_sec BETWEEN 120 AND 50400\n",
    "    AND subscriber_type = \"Subscriber\""
   ]
  },
  {
   "cell_type": "markdown",
   "metadata": {},
   "source": [
    "The previous query gives the total number of commuter trips. Therefore, about 94% of commuter trips are taken by subscribers."
   ]
  },
  {
   "cell_type": "markdown",
   "metadata": {},
   "source": [
    "Question 9: What are the most common start station and end station pairs on the weekdays for subscribers?"
   ]
  },
  {
   "cell_type": "code",
   "execution_count": 29,
   "metadata": {},
   "outputs": [],
   "source": [
    "%%bigquery weekday_pairs_sub_df\n",
    "\n",
    "SELECT start_station_name, end_station_name, count(*) as trip_freq \n",
    "FROM `bigquery-public-data.san_francisco.bikeshare_trips` \n",
    "WHERE subscriber_type='Subscriber' AND (EXTRACT(DAYOFWEEK FROM start_date) BETWEEN 2 AND 6)\n",
    "GROUP BY start_station_name, end_station_name \n",
    "ORDER BY trip_freq DESC LIMIT 5"
   ]
  },
  {
   "cell_type": "code",
   "execution_count": 30,
   "metadata": {},
   "outputs": [
    {
     "data": {
      "text/html": [
       "<div>\n",
       "<style scoped>\n",
       "    .dataframe tbody tr th:only-of-type {\n",
       "        vertical-align: middle;\n",
       "    }\n",
       "\n",
       "    .dataframe tbody tr th {\n",
       "        vertical-align: top;\n",
       "    }\n",
       "\n",
       "    .dataframe thead th {\n",
       "        text-align: right;\n",
       "    }\n",
       "</style>\n",
       "<table border=\"1\" class=\"dataframe\">\n",
       "  <thead>\n",
       "    <tr style=\"text-align: right;\">\n",
       "      <th></th>\n",
       "      <th>start_station_name</th>\n",
       "      <th>end_station_name</th>\n",
       "      <th>trip_freq</th>\n",
       "    </tr>\n",
       "  </thead>\n",
       "  <tbody>\n",
       "    <tr>\n",
       "      <th>0</th>\n",
       "      <td>San Francisco Caltrain 2 (330 Townsend)</td>\n",
       "      <td>Townsend at 7th</td>\n",
       "      <td>7870</td>\n",
       "    </tr>\n",
       "    <tr>\n",
       "      <th>1</th>\n",
       "      <td>2nd at Townsend</td>\n",
       "      <td>Harry Bridges Plaza (Ferry Building)</td>\n",
       "      <td>6655</td>\n",
       "    </tr>\n",
       "    <tr>\n",
       "      <th>2</th>\n",
       "      <td>Townsend at 7th</td>\n",
       "      <td>San Francisco Caltrain 2 (330 Townsend)</td>\n",
       "      <td>6322</td>\n",
       "    </tr>\n",
       "    <tr>\n",
       "      <th>3</th>\n",
       "      <td>Harry Bridges Plaza (Ferry Building)</td>\n",
       "      <td>2nd at Townsend</td>\n",
       "      <td>6070</td>\n",
       "    </tr>\n",
       "    <tr>\n",
       "      <th>4</th>\n",
       "      <td>Embarcadero at Folsom</td>\n",
       "      <td>San Francisco Caltrain (Townsend at 4th)</td>\n",
       "      <td>6028</td>\n",
       "    </tr>\n",
       "  </tbody>\n",
       "</table>\n",
       "</div>"
      ],
      "text/plain": [
       "                        start_station_name  \\\n",
       "0  San Francisco Caltrain 2 (330 Townsend)   \n",
       "1                          2nd at Townsend   \n",
       "2                          Townsend at 7th   \n",
       "3     Harry Bridges Plaza (Ferry Building)   \n",
       "4                    Embarcadero at Folsom   \n",
       "\n",
       "                           end_station_name  trip_freq  \n",
       "0                           Townsend at 7th       7870  \n",
       "1      Harry Bridges Plaza (Ferry Building)       6655  \n",
       "2   San Francisco Caltrain 2 (330 Townsend)       6322  \n",
       "3                           2nd at Townsend       6070  \n",
       "4  San Francisco Caltrain (Townsend at 4th)       6028  "
      ]
     },
     "execution_count": 30,
     "metadata": {},
     "output_type": "execute_result"
    }
   ],
   "source": [
    "weekday_pairs_sub_df"
   ]
  },
  {
   "cell_type": "markdown",
   "metadata": {},
   "source": [
    "The table above shows the most common trips on weekdays for commuters. We see the `San Francisco Caltrain (Townsend at 4th)` station in 3 of the top 5 trips. But `San Francisco Caltrain (Townsend at 4th)` station does not show up in the top weekend trips (Question 8):"
   ]
  },
  {
   "cell_type": "code",
   "execution_count": 25,
   "metadata": {},
   "outputs": [],
   "source": [
    "%%bigquery weekend_trips_df\n",
    "\n",
    "SELECT start_station_name, end_station_name, count(*) as trip_freq \n",
    "FROM `bigquery-public-data.san_francisco.bikeshare_trips` \n",
    "WHERE EXTRACT(DAYOFWEEK FROM start_date) = 1 OR EXTRACT(DAYOFWEEK FROM start_date) = 7\n",
    "GROUP BY start_station_name, end_station_name \n",
    "ORDER BY trip_freq DESC LIMIT 10"
   ]
  },
  {
   "cell_type": "code",
   "execution_count": 26,
   "metadata": {},
   "outputs": [
    {
     "data": {
      "text/html": [
       "<div>\n",
       "<style scoped>\n",
       "    .dataframe tbody tr th:only-of-type {\n",
       "        vertical-align: middle;\n",
       "    }\n",
       "\n",
       "    .dataframe tbody tr th {\n",
       "        vertical-align: top;\n",
       "    }\n",
       "\n",
       "    .dataframe thead th {\n",
       "        text-align: right;\n",
       "    }\n",
       "</style>\n",
       "<table border=\"1\" class=\"dataframe\">\n",
       "  <thead>\n",
       "    <tr style=\"text-align: right;\">\n",
       "      <th></th>\n",
       "      <th>start_station_name</th>\n",
       "      <th>end_station_name</th>\n",
       "      <th>trip_freq</th>\n",
       "    </tr>\n",
       "  </thead>\n",
       "  <tbody>\n",
       "    <tr>\n",
       "      <th>0</th>\n",
       "      <td>Harry Bridges Plaza (Ferry Building)</td>\n",
       "      <td>Embarcadero at Sansome</td>\n",
       "      <td>2078</td>\n",
       "    </tr>\n",
       "    <tr>\n",
       "      <th>1</th>\n",
       "      <td>Embarcadero at Sansome</td>\n",
       "      <td>Harry Bridges Plaza (Ferry Building)</td>\n",
       "      <td>1183</td>\n",
       "    </tr>\n",
       "    <tr>\n",
       "      <th>2</th>\n",
       "      <td>Embarcadero at Sansome</td>\n",
       "      <td>Embarcadero at Sansome</td>\n",
       "      <td>1146</td>\n",
       "    </tr>\n",
       "    <tr>\n",
       "      <th>3</th>\n",
       "      <td>Harry Bridges Plaza (Ferry Building)</td>\n",
       "      <td>Harry Bridges Plaza (Ferry Building)</td>\n",
       "      <td>1122</td>\n",
       "    </tr>\n",
       "    <tr>\n",
       "      <th>4</th>\n",
       "      <td>Embarcadero at Bryant</td>\n",
       "      <td>Embarcadero at Sansome</td>\n",
       "      <td>701</td>\n",
       "    </tr>\n",
       "    <tr>\n",
       "      <th>5</th>\n",
       "      <td>Embarcadero at Bryant</td>\n",
       "      <td>Harry Bridges Plaza (Ferry Building)</td>\n",
       "      <td>612</td>\n",
       "    </tr>\n",
       "    <tr>\n",
       "      <th>6</th>\n",
       "      <td>Embarcadero at Vallejo</td>\n",
       "      <td>Embarcadero at Sansome</td>\n",
       "      <td>603</td>\n",
       "    </tr>\n",
       "    <tr>\n",
       "      <th>7</th>\n",
       "      <td>University and Emerson</td>\n",
       "      <td>University and Emerson</td>\n",
       "      <td>599</td>\n",
       "    </tr>\n",
       "    <tr>\n",
       "      <th>8</th>\n",
       "      <td>2nd at Townsend</td>\n",
       "      <td>Harry Bridges Plaza (Ferry Building)</td>\n",
       "      <td>577</td>\n",
       "    </tr>\n",
       "    <tr>\n",
       "      <th>9</th>\n",
       "      <td>Powell Street BART</td>\n",
       "      <td>Market at 10th</td>\n",
       "      <td>564</td>\n",
       "    </tr>\n",
       "  </tbody>\n",
       "</table>\n",
       "</div>"
      ],
      "text/plain": [
       "                     start_station_name                      end_station_name  \\\n",
       "0  Harry Bridges Plaza (Ferry Building)                Embarcadero at Sansome   \n",
       "1                Embarcadero at Sansome  Harry Bridges Plaza (Ferry Building)   \n",
       "2                Embarcadero at Sansome                Embarcadero at Sansome   \n",
       "3  Harry Bridges Plaza (Ferry Building)  Harry Bridges Plaza (Ferry Building)   \n",
       "4                 Embarcadero at Bryant                Embarcadero at Sansome   \n",
       "5                 Embarcadero at Bryant  Harry Bridges Plaza (Ferry Building)   \n",
       "6                Embarcadero at Vallejo                Embarcadero at Sansome   \n",
       "7                University and Emerson                University and Emerson   \n",
       "8                       2nd at Townsend  Harry Bridges Plaza (Ferry Building)   \n",
       "9                    Powell Street BART                        Market at 10th   \n",
       "\n",
       "   trip_freq  \n",
       "0       2078  \n",
       "1       1183  \n",
       "2       1146  \n",
       "3       1122  \n",
       "4        701  \n",
       "5        612  \n",
       "6        603  \n",
       "7        599  \n",
       "8        577  \n",
       "9        564  "
      ]
     },
     "execution_count": 26,
     "metadata": {},
     "output_type": "execute_result"
    }
   ],
   "source": [
    "weekend_trips_df"
   ]
  },
  {
   "cell_type": "markdown",
   "metadata": {},
   "source": [
    "The table above displays the top 10 weekend trips. The `San Francisco Caltrain (Townsend at 4th)` station does not show up in the table. Lets do some more exploration. "
   ]
  },
  {
   "cell_type": "code",
   "execution_count": 37,
   "metadata": {},
   "outputs": [],
   "source": [
    "%%bigquery caltrain_df\n",
    "\n",
    "SELECT EXTRACT(DAYOFWEEK FROM start_date) as day, count(*) as trip_freq \n",
    "FROM `bigquery-public-data.san_francisco.bikeshare_trips` \n",
    "WHERE start_station_name = 'San Francisco Caltrain (Townsend at 4th)' \n",
    "    OR end_station_name = 'San Francisco Caltrain (Townsend at 4th)'\n",
    "GROUP BY day\n",
    "ORDER BY day"
   ]
  },
  {
   "cell_type": "code",
   "execution_count": 39,
   "metadata": {},
   "outputs": [],
   "source": [
    "caltrain_df['day']= ['Sunday', 'Monday', 'Tuesday', 'Wednesday', 'Thursday', 'Friday', 'Saturday']"
   ]
  },
  {
   "cell_type": "code",
   "execution_count": 40,
   "metadata": {},
   "outputs": [
    {
     "data": {
      "text/html": [
       "<div>\n",
       "<style scoped>\n",
       "    .dataframe tbody tr th:only-of-type {\n",
       "        vertical-align: middle;\n",
       "    }\n",
       "\n",
       "    .dataframe tbody tr th {\n",
       "        vertical-align: top;\n",
       "    }\n",
       "\n",
       "    .dataframe thead th {\n",
       "        text-align: right;\n",
       "    }\n",
       "</style>\n",
       "<table border=\"1\" class=\"dataframe\">\n",
       "  <thead>\n",
       "    <tr style=\"text-align: right;\">\n",
       "      <th></th>\n",
       "      <th>day</th>\n",
       "      <th>trip_freq</th>\n",
       "    </tr>\n",
       "  </thead>\n",
       "  <tbody>\n",
       "    <tr>\n",
       "      <th>0</th>\n",
       "      <td>Sunday</td>\n",
       "      <td>3585</td>\n",
       "    </tr>\n",
       "    <tr>\n",
       "      <th>1</th>\n",
       "      <td>Monday</td>\n",
       "      <td>30342</td>\n",
       "    </tr>\n",
       "    <tr>\n",
       "      <th>2</th>\n",
       "      <td>Tuesday</td>\n",
       "      <td>33745</td>\n",
       "    </tr>\n",
       "    <tr>\n",
       "      <th>3</th>\n",
       "      <td>Wednesday</td>\n",
       "      <td>33107</td>\n",
       "    </tr>\n",
       "    <tr>\n",
       "      <th>4</th>\n",
       "      <td>Thursday</td>\n",
       "      <td>31790</td>\n",
       "    </tr>\n",
       "    <tr>\n",
       "      <th>5</th>\n",
       "      <td>Friday</td>\n",
       "      <td>27180</td>\n",
       "    </tr>\n",
       "    <tr>\n",
       "      <th>6</th>\n",
       "      <td>Saturday</td>\n",
       "      <td>4244</td>\n",
       "    </tr>\n",
       "  </tbody>\n",
       "</table>\n",
       "</div>"
      ],
      "text/plain": [
       "         day  trip_freq\n",
       "0     Sunday       3585\n",
       "1     Monday      30342\n",
       "2    Tuesday      33745\n",
       "3  Wednesday      33107\n",
       "4   Thursday      31790\n",
       "5     Friday      27180\n",
       "6   Saturday       4244"
      ]
     },
     "execution_count": 40,
     "metadata": {},
     "output_type": "execute_result"
    }
   ],
   "source": [
    "caltrain_df"
   ]
  },
  {
   "cell_type": "code",
   "execution_count": 44,
   "metadata": {},
   "outputs": [
    {
     "data": {
      "text/plain": [
       "<AxesSubplot:xlabel='day'>"
      ]
     },
     "execution_count": 44,
     "metadata": {},
     "output_type": "execute_result"
    },
    {
     "data": {
      "image/png": "[encoded data removed]",
      "text/plain": [
       "<Figure size 432x288 with 1 Axes>"
      ]
     },
     "metadata": {
      "needs_background": "light"
     },
     "output_type": "display_data"
    }
   ],
   "source": [
    "caltrain_df.plot.bar(x='day', y='trip_freq')"
   ]
  },
  {
   "cell_type": "markdown",
   "metadata": {},
   "source": [
    "The table above shows the frequency of trips to or from the `San Francisco Caltrain (Townsend at 4th)` station for the different days of the week. Bike share trips to or from the `San Francisco Caltrain (Townsend at 4th)` station occur about 8 times more per day during the weekdays than on the weekends. This means that a lot of people come in and leave the city on the weekdays for work, but these people are not doing the same on the weekends. We can offer weekend deals for people who ride on the weekdays. Because most commuters are subscribers, we can attract more people if we offer deals to family of the subscribers on the weekend. We can also compile lists of fun things to do in San Francisco and the Southbay. This will incentivize people to take trips to or out of San Francisco during the weekend and explore places they don't get to on the weekdays."
   ]
  },
  {
   "cell_type": "code",
   "execution_count": 49,
   "metadata": {},
   "outputs": [],
   "source": [
    "#### Recommendation 3: Weekend Subscription Deal for Locals"
   ]
  },
  {
   "cell_type": "code",
   "execution_count": 45,
   "metadata": {},
   "outputs": [],
   "source": [
    "%%bigquery weekend_sub_df\n",
    "\n",
    "SELECT subscriber_type, count(*) as trip_freq \n",
    "FROM `bigquery-public-data.san_francisco.bikeshare_trips`\n",
    "WHERE EXTRACT(DAYOFWEEK FROM start_date) = 1 OR EXTRACT(DAYOFWEEK FROM start_date) = 7\n",
    "GROUP BY subscriber_type"
   ]
  },
  {
   "cell_type": "code",
   "execution_count": 48,
   "metadata": {},
   "outputs": [
    {
     "data": {
      "text/html": [
       "<div>\n",
       "<style scoped>\n",
       "    .dataframe tbody tr th:only-of-type {\n",
       "        vertical-align: middle;\n",
       "    }\n",
       "\n",
       "    .dataframe tbody tr th {\n",
       "        vertical-align: top;\n",
       "    }\n",
       "\n",
       "    .dataframe thead th {\n",
       "        text-align: right;\n",
       "    }\n",
       "</style>\n",
       "<table border=\"1\" class=\"dataframe\">\n",
       "  <thead>\n",
       "    <tr style=\"text-align: right;\">\n",
       "      <th></th>\n",
       "      <th>subscriber_type</th>\n",
       "      <th>trip_freq</th>\n",
       "    </tr>\n",
       "  </thead>\n",
       "  <tbody>\n",
       "    <tr>\n",
       "      <th>0</th>\n",
       "      <td>Customer</td>\n",
       "      <td>55152</td>\n",
       "    </tr>\n",
       "    <tr>\n",
       "      <th>1</th>\n",
       "      <td>Subscriber</td>\n",
       "      <td>56502</td>\n",
       "    </tr>\n",
       "  </tbody>\n",
       "</table>\n",
       "</div>"
      ],
      "text/plain": [
       "  subscriber_type  trip_freq\n",
       "0        Customer      55152\n",
       "1      Subscriber      56502"
      ]
     },
     "execution_count": 48,
     "metadata": {},
     "output_type": "execute_result"
    }
   ],
   "source": [
    "weekend_sub_df"
   ]
  },
  {
   "cell_type": "code",
   "execution_count": 47,
   "metadata": {},
   "outputs": [
    {
     "data": {
      "text/plain": [
       "<AxesSubplot:xlabel='subscriber_type'>"
      ]
     },
     "execution_count": 47,
     "metadata": {},
     "output_type": "execute_result"
    },
    {
     "data": {
      "image/png": "[encoded data removed]",
      "text/plain": [
       "<Figure size 432x288 with 1 Axes>"
      ]
     },
     "metadata": {
      "needs_background": "light"
     },
     "output_type": "display_data"
    }
   ],
   "source": [
    "weekend_sub_df.plot.bar(x='subscriber_type', y='trip_freq')"
   ]
  },
  {
   "cell_type": "markdown",
   "metadata": {},
   "source": [
    "The histogram and table above shows the number of trips by subscribers and non-subscribers on the weekends. It is about half and half, so there is definitely potential to attract more riders and subscribers on the weekend. We can offer a special weekend subscription deal for locals."
   ]
  }
 ],
 "metadata": {
  "environment": {
   "name": "common-cpu.m59",
   "type": "gcloud",
   "uri": "gcr.io/deeplearning-platform-release/base-cpu:m59"
  },
  "kernelspec": {
   "display_name": "Python 3",
   "language": "python",
   "name": "python3"
  },
  "language_info": {
   "codemirror_mode": {
    "name": "ipython",
    "version": 3
   },
   "file_extension": ".py",
   "mimetype": "text/x-python",
   "name": "python",
   "nbconvert_exporter": "python",
   "pygments_lexer": "ipython3",
   "version": "3.8.5"
  }
 },
 "nbformat": 4,
 "nbformat_minor": 4
}
